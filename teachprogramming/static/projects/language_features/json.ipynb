{
 "cells": [
  {
   "cell_type": "code",
   "execution_count": 1,
   "metadata": {
    "dotnet_interactive": {
     "language": "csharp"
    },
    "polyglot_notebook": {
     "kernelName": "csharp"
    },
    "vscode": {
     "languageId": "polyglot-notebook"
    }
   },
   "outputs": [
    {
     "name": "stdout",
     "output_type": "stream",
     "text": [
      "{\"name\":\"Test\",\"age\":100,\"pets\":[{\"name\":\"Kitty\",\"type\":\"cat\"},{\"name\":\"Doggy\",\"type\":\"dog\"}]}\n",
      "Doggy\n"
     ]
    }
   ],
   "source": [
    "using System.Text.Json;\n",
    "\n",
    "class Pet {\n",
    "    public string name  { get; set; }\n",
    "    public string type  { get; set; }\n",
    "}\n",
    "class Person {\n",
    "    public String name  { get; set; }\n",
    "    public int age  { get; set; }\n",
    "    public List<Pet> pets  { get; set; }\n",
    "}\n",
    "var p = new Person {\n",
    "    name = \"Test\",\n",
    "    age = 100,\n",
    "    pets = new List<Pet> {\n",
    "        new Pet {name = \"Kitty\", type = \"cat\"},\n",
    "        new Pet {name = \"Doggy\", type = \"dog\"},\n",
    "    },\n",
    "};\n",
    "\n",
    "string data = JsonSerializer.Serialize<Person>(p);\n",
    "Console.WriteLine(data);\n",
    "\n",
    "var p2 = JsonSerializer.Deserialize<Person>(data);\n",
    "Console.WriteLine(p2.pets[1].name);"
   ]
  },
  {
   "cell_type": "code",
   "execution_count": 3,
   "metadata": {
    "dotnet_interactive": {
     "language": "csharp"
    },
    "polyglot_notebook": {
     "kernelName": "csharp"
    },
    "vscode": {
     "languageId": "polyglot-notebook"
    }
   },
   "outputs": [
    {
     "name": "stdout",
     "output_type": "stream",
     "text": [
      "Json Serialization Part 1\n",
      "{\"Topic\":\"Json Serialization Part 1\",\"Part\":1,\"Author\":\"Marc\",\"Co-Author\":\"Helen\",\"Keywords\":[\"json\",\"netcore\",\"parsing\"]}\n"
     ]
    }
   ],
   "source": [
    "var stringifiedJson = $$\"\"\"\n",
    "  {\"Topic\":\"Json Serialization Part 1\",\"Part\":1,\"Author\":\"Marc\",\"Co-Author\":\"Helen\",\"Keywords\":[\"json\",\"netcore\",\"parsing\"]}\n",
    "\"\"\";\n",
    "var blogPost = JsonDocument.Parse(stringifiedJson);\n",
    "var topic = blogPost.RootElement.GetProperty(\"Topic\").GetString();\n",
    "Console.WriteLine(topic);\n",
    "Console.WriteLine(JsonSerializer.Serialize(blogPost));"
   ]
  }
 ],
 "metadata": {
  "kernelspec": {
   "display_name": ".NET (C#)",
   "language": "C#",
   "name": ".net-csharp"
  },
  "language_info": {
   "file_extension": ".cs",
   "mimetype": "text/x-csharp",
   "name": "C#",
   "pygments_lexer": "csharp",
   "version": "9.0"
  },
  "orig_nbformat": 4
 },
 "nbformat": 4,
 "nbformat_minor": 2
}
