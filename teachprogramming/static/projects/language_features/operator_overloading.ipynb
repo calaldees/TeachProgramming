{
 "cells": [
  {
   "cell_type": "code",
   "execution_count": 49,
   "metadata": {
    "vscode": {
     "languageId": "csharp"
    }
   },
   "outputs": [],
   "source": [
    "void AssertIsEqual<A> (A a, A b, string message = \"\") {\n",
    "    if (!a.Equals(b)) {\n",
    "        throw new Exception($\"Failed AssertIsEqual({a} == {b}): {message}\");\n",
    "    }\n",
    "}"
   ]
  },
  {
   "cell_type": "code",
   "execution_count": 38,
   "metadata": {
    "vscode": {
     "languageId": "csharp"
    }
   },
   "outputs": [
    {
     "name": "stdout",
     "output_type": "stream",
     "text": [
      "Circle(x=1, y=2, radius=3)\n",
      "Circle(x=3.5, y=3.5, radius=10)\n",
      "Circle(x=1, y=2, radius=8)\n"
     ]
    }
   ],
   "source": [
    "class Circle {\n",
    "    double x;\n",
    "    double y;\n",
    "    double radius;\n",
    "\n",
    "    public Circle(double x, double y, double radius) {\n",
    "        this.x = x;\n",
    "        this.y = y;\n",
    "        this.radius = radius;\n",
    "    }\n",
    "\n",
    "    override\n",
    "    public String ToString() {\n",
    "        return $@\"Circle(x={x}, y={y}, radius={radius})\";\n",
    "    }\n",
    "\n",
    "    public static Circle operator +(Circle a, Circle b) {\n",
    "        return new Circle(x: (a.x + b.x)/2, y: (a.y + b.y)/2, radius: a.radius + b.radius);\n",
    "    }\n",
    "\n",
    "    public static Circle operator +(Circle a, int r) {\n",
    "        return new Circle(x: a.x, y: a.y, radius: a.radius + r);\n",
    "    }\n",
    "}\n",
    "\n",
    "Console.WriteLine(\n",
    "    new Circle(5,5,5) + new Circle(2,2,5)\n",
    ");\n",
    "Console.WriteLine(\n",
    "    new Circle(1,2,3) + 5\n",
    ");\n"
   ]
  },
  {
   "cell_type": "code",
   "execution_count": 57,
   "metadata": {
    "vscode": {
     "languageId": "csharp"
    }
   },
   "outputs": [
    {
     "ename": "Unhandled exception",
     "evalue": "System.NotImplementedException: Complete this + operator\r\n   at Submission#59.Rectangle.op_Addition(Rectangle a, Rectangle b)\r\n   at Submission#59.<<Initialize>>d__0.MoveNext()\r\n--- End of stack trace from previous location ---\r\n   at Microsoft.CodeAnalysis.Scripting.ScriptExecutionState.RunSubmissionsAsync[TResult](ImmutableArray`1 precedingExecutors, Func`2 currentExecutor, StrongBox`1 exceptionHolderOpt, Func`2 catchExceptionOpt, CancellationToken cancellationToken)",
     "output_type": "error",
     "traceback": [
      "System.NotImplementedException: Complete this + operator\r\n   at Submission#59.Rectangle.op_Addition(Rectangle a, Rectangle b)\r\n   at Submission#59.<<Initialize>>d__0.MoveNext()\r\n--- End of stack trace from previous location ---\r\n   at Microsoft.CodeAnalysis.Scripting.ScriptExecutionState.RunSubmissionsAsync[TResult](ImmutableArray`1 precedingExecutors, Func`2 currentExecutor, StrongBox`1 exceptionHolderOpt, Func`2 catchExceptionOpt, CancellationToken cancellationToken)",
      "   at Submission#59.Rectangle.op_Addition(Rectangle a, Rectangle b)",
      "   at Submission#59.<<Initialize>>d__0.MoveNext()",
      "--- End of stack trace from previous location ---",
      "   at Microsoft.CodeAnalysis.Scripting.ScriptExecutionState.RunSubmissionsAsync[TResult](ImmutableArray`1 precedingExecutors, Func`2 currentExecutor, StrongBox`1 exceptionHolderOpt, Func`2 catchExceptionOpt, CancellationToken cancellationToken)"
     ]
    }
   ],
   "source": [
    "class Rectangle {\n",
    "    int x1;\n",
    "    int y1;\n",
    "    int x2;\n",
    "    int y2;\n",
    "\n",
    "    public Rectangle(int x1, int y1, int x2, int y2) {\n",
    "        this.x1 = x1;\n",
    "        this.y1 = y1;\n",
    "        this.x2 = x2;\n",
    "        this.y2 = y2;\n",
    "    }\n",
    "\n",
    "    public override String ToString() => $\"Rectangle(x1:{x1}, y1:{y1}, x2:{x2}, y1:{y2})\";\n",
    "    public override int GetHashCode() => x1 ^ y1 ^ x2 ^ y2;\n",
    "    public override bool Equals(object obj) => GetHashCode()==obj.GetHashCode();  // Quick Hack\n",
    "\n",
    "    public static Rectangle operator +(Rectangle a, Rectangle b) {\n",
    "        throw new NotImplementedException(\"Complete this + operator\");\n",
    "    }\n",
    "    public static Rectangle operator +(Rectangle a, int b) {\n",
    "        throw new NotImplementedException(\"Complete this + operator\");\n",
    "    }\n",
    "}\n",
    "\n",
    "\n",
    "var r1 = new Rectangle(0,0,10,10);\n",
    "var r2 = new Rectangle(5,5,20,20);\n",
    "\n",
    "AssertIsEqual(r1 + r2, new Rectangle(0, 0, 20, 20));\n",
    "AssertIsEqual(r1 + 1, new Rectangle(0, 0, 11, 11));\n"
   ]
  }
 ],
 "metadata": {
  "kernelspec": {
   "display_name": ".NET (C#)",
   "language": "C#",
   "name": ".net-csharp"
  },
  "language_info": {
   "file_extension": ".cs",
   "mimetype": "text/x-csharp",
   "name": "C#",
   "pygments_lexer": "csharp",
   "version": "9.0"
  },
  "orig_nbformat": 4
 },
 "nbformat": 4,
 "nbformat_minor": 2
}
