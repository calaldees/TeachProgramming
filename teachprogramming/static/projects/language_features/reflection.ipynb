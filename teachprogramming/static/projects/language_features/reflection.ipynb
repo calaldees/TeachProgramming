{
 "cells": [
  {
   "cell_type": "markdown",
   "metadata": {},
   "source": [
    "\n",
    "* [Reflection in .NET](https://docs.microsoft.com/en-us/dotnet/framework/reflection-and-codedom/reflection)\n",
    "    * [Type.GetMethods Method](https://docs.microsoft.com/en-us/dotnet/api/system.type.getmethods)\n"
   ]
  },
  {
   "cell_type": "code",
   "execution_count": 2,
   "metadata": {
    "vscode": {
     "languageId": "csharp"
    }
   },
   "outputs": [
    {
     "name": "stdout",
     "output_type": "stream",
     "text": [
      "System.Int32\n"
     ]
    }
   ],
   "source": [
    "int i = 42;\n",
    "Type type = i.GetType();\n",
    "Console.WriteLine(type);\n"
   ]
  },
  {
   "cell_type": "code",
   "execution_count": 32,
   "metadata": {
    "vscode": {
     "languageId": "csharp"
    }
   },
   "outputs": [
    {
     "name": "stdout",
     "output_type": "stream",
     "text": [
      "setValue\n",
      "setValue\n",
      "setValue\n",
      "MemberwiseClone\n",
      "Finalize\n",
      "100\n"
     ]
    }
   ],
   "source": [
    "using System;\n",
    "using System.Reflection;\n",
    "\n",
    "\n",
    "class Test {\n",
    "    private int a = 0;\n",
    "    public Test(int a) {\n",
    "        this.a = a + 10;\n",
    "    }\n",
    "    public int getValue() {\n",
    "        return a;\n",
    "    }\n",
    "    void setValue(int a) {\n",
    "        this.a = a;\n",
    "    }\n",
    "    void setValue(float a) {\n",
    "        this.a = (int)a;\n",
    "    }\n",
    "    void setValue(String a) {\n",
    "        this.a = int.Parse(a);\n",
    "    }\n",
    "}\n",
    "\n",
    "foreach (MethodInfo m in typeof(Test).GetMethods(BindingFlags.Instance | BindingFlags.NonPublic)) {\n",
    "    Console.WriteLine(m.Name);\n",
    "}\n",
    "\n",
    "Object tt = new Test(1);\n",
    "//Console.WriteLine(tt.getValue());\n",
    "tt.GetType()\n",
    "    .GetMethod(\n",
    "        name: \"setValue\", \n",
    "        bindingAttr: BindingFlags.Instance | BindingFlags.NonPublic, \n",
    "        types: new Type[]{typeof(int),}\n",
    "    )\n",
    "    .Invoke(tt, new object[]{100});\n",
    "object num = tt.GetType()\n",
    "    .GetMethod(\n",
    "        name: \"getValue\"\n",
    "        //bindingAttr: BindingFlags.Instance | BindingFlags.Public\n",
    "    ).Invoke(tt, new object[]{});\n",
    "\n",
    "Console.WriteLine(num);\n"
   ]
  }
 ],
 "metadata": {
  "kernelspec": {
   "display_name": ".NET (C#)",
   "language": "C#",
   "name": ".net-csharp"
  },
  "language_info": {
   "file_extension": ".cs",
   "mimetype": "text/x-csharp",
   "name": "C#",
   "pygments_lexer": "csharp",
   "version": "9.0"
  },
  "orig_nbformat": 4
 },
 "nbformat": 4,
 "nbformat_minor": 2
}
