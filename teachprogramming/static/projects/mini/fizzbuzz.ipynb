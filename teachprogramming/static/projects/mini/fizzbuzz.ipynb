{
 "cells": [
  {
   "cell_type": "markdown",
   "metadata": {},
   "source": [
    "FizzBuzz\n",
    "========\n",
    "\n",
    "> Write a program that prints the numbers from 1 to 100. But for multiples of three print “Fizz” instead of the number and for the multiples of five print “Buzz”. For numbers which are multiples of both three and five print “FizzBuzz”.\n",
    "\n",
    "* Classic code interview problem\n",
    "    * [wikipedia](https://en.wikipedia.org/wiki/Fizz_buzz#Programming_interviews)\n",
    "    * [imranontech.com](https://imranontech.com/2007/01/24/using-fizzbuzz-to-find-developers-who-grok-coding/)\n",
    "    * [Tom Scott commentary and solution](https://www.youtube.com/watch?v=QPZ0pIK_wsc)\n",
    "* In under 5min (Professional) - in under 10min (AGrade/Distinction/First)"
   ]
  },
  {
   "cell_type": "code",
   "execution_count": null,
   "metadata": {
    "dotnet_interactive": {
     "language": "csharp"
    }
   },
   "outputs": [],
   "source": []
  }
 ],
 "metadata": {
  "kernelspec": {
   "display_name": ".NET (C#)",
   "language": "C#",
   "name": ".net-csharp"
  },
  "language_info": {
   "file_extension": ".cs",
   "mimetype": "text/x-csharp",
   "name": "C#",
   "pygments_lexer": "csharp",
   "version": "9.0"
  },
  "orig_nbformat": 4
 },
 "nbformat": 4,
 "nbformat_minor": 2
}
