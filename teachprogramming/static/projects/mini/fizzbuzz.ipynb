{
 "cells": [
  {
   "cell_type": "markdown",
   "metadata": {},
   "source": [
    "FizzBuzz\n",
    "========\n",
    "\n",
    "> Write a program that prints the numbers from 1 to 100. But for multiples of three print “Fizz” instead of the number and for the multiples of five print “Buzz”. For numbers which are multiples of both three and five print “FizzBuzz”.\n",
    "\n",
    "* Classic code interview problem\n",
    "    * [wikipedia](https://en.wikipedia.org/wiki/Fizz_buzz#Programming_interviews)\n",
    "    * [imranontech.com](https://imranontech.com/2007/01/24/using-fizzbuzz-to-find-developers-who-grok-coding/)\n",
    "    * [Tom Scott commentary and solution](https://www.youtube.com/watch?v=QPZ0pIK_wsc)\n",
    "* In under 5min (Professional) - in under 10min (AGrade/Distinction/First)"
   ]
  },
  {
   "cell_type": "code",
   "execution_count": null,
   "metadata": {
    "dotnet_interactive": {
     "language": "csharp"
    }
   },
   "outputs": [],
   "source": [
    "void AssertIsEqual<A> (A a, A b) {AssertIsEqual(a,b,\"\");}\n",
    "void AssertIsEqual<A> (A a, A b, string message) {\n",
    "    if (!a.Equals(b)) {\n",
    "        throw new Exception($\"Failed AssertIsEqual({a} == {b}): {message}\");\n",
    "    }\n",
    "}"
   ]
  },
  {
   "cell_type": "code",
   "execution_count": null,
   "metadata": {
    "dotnet_interactive": {
     "language": "csharp"
    }
   },
   "outputs": [],
   "source": [
    "String _fizzbuzz(int i) {\n",
    "    String r = \"\";\n",
    "    if (i % 3 == 0) {r += \"fizz\";}\n",
    "    if (i % 5 == 0) {r += \"buzz\";}\n",
    "    if (r == \"\") {r = $\"{i}\";}\n",
    "    return r;\n",
    "}\n",
    "AssertIsEqual(_fizzbuzz(1), \"1\");\n",
    "AssertIsEqual(_fizzbuzz(2), \"2\");\n",
    "AssertIsEqual(_fizzbuzz(3), \"fizz\");\n",
    "AssertIsEqual(_fizzbuzz(4), \"4\");\n",
    "AssertIsEqual(_fizzbuzz(5), \"buzz\");\n",
    "AssertIsEqual(_fizzbuzz(6), \"fizz\");\n",
    "AssertIsEqual(_fizzbuzz(15), \"fizzbuzz\");"
   ]
  },
  {
   "cell_type": "code",
   "execution_count": null,
   "metadata": {
    "dotnet_interactive": {
     "language": "csharp"
    }
   },
   "outputs": [],
   "source": [
    "/*\n",
    "Generate\n",
    "var values = Enumerable.Range(1, 100).Select(_fizzbuzz);\n",
    "Console.WriteLine(\n",
    "    \"new String[]{\" + String.Join(\", \", values.Select((i)=>$\"\\\"{i}\\\"\")) + \"}\"\n",
    ");\n",
    "*/\n",
    "var answers = new String[]{\"1\", \"2\", \"fizz\", \"4\", \"buzz\", \"fizz\", \"7\", \"8\", \"fizz\", \"buzz\", \"11\", \"fizz\", \"13\", \"14\", \"fizzbuzz\", \"16\", \"17\", \"fizz\", \"19\", \"buzz\", \"fizz\", \"22\", \"23\", \"fizz\", \"buzz\", \"26\", \"fizz\", \"28\", \"29\", \"fizzbuzz\", \"31\", \"32\", \"fizz\", \"34\", \"buzz\", \"fizz\", \"37\", \"38\", \"fizz\", \"buzz\", \"41\", \"fizz\", \"43\", \"44\", \"fizzbuzz\", \"46\", \"47\", \"fizz\", \"49\", \"buzz\", \"fizz\", \"52\", \"53\", \"fizz\", \"buzz\", \"56\", \"fizz\", \"58\", \"59\", \"fizzbuzz\", \"61\", \"62\", \"fizz\", \"64\", \"buzz\", \"fizz\", \"67\", \"68\", \"fizz\", \"buzz\", \"71\", \"fizz\", \"73\", \"74\", \"fizzbuzz\", \"76\", \"77\", \"fizz\", \"79\", \"buzz\", \"fizz\", \"82\", \"83\", \"fizz\", \"buzz\", \"86\", \"fizz\", \"88\", \"89\", \"fizzbuzz\", \"91\", \"92\", \"fizz\", \"94\", \"buzz\", \"fizz\", \"97\", \"98\", \"fizz\", \"buzz\"};\n",
    "\n",
    "if (!Enumerable.SequenceEqual(\n",
    "    Enumerable.Range(1, 100).Select(_fizzbuzz),\n",
    "    answers\n",
    ")) {throw new Exception(\"FizzBuzz has not been solved correctly\");}"
   ]
  }
 ],
 "metadata": {
  "kernelspec": {
   "display_name": ".NET (C#)",
   "language": "C#",
   "name": ".net-csharp"
  },
  "language_info": {
   "file_extension": ".cs",
   "mimetype": "text/x-csharp",
   "name": "C#",
   "pygments_lexer": "csharp",
   "version": "9.0"
  },
  "orig_nbformat": 4
 },
 "nbformat": 4,
 "nbformat_minor": 2
}
