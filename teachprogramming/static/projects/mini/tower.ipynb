{
 "cells": [
  {
   "cell_type": "code",
   "execution_count": null,
   "metadata": {
    "dotnet_interactive": {
     "language": "csharp"
    }
   },
   "outputs": [],
   "source": [
    "// repeat a single character as a new string\n",
    "String repeat(char c, int n) {\n",
    "    return new string(c, n);\n",
    "}\n",
    "// More flexible as you can repeat whole words\n",
    "String repeat(String s, int n){\n",
    "    return string.Concat(Enumerable.Repeat(s, n));\n",
    "}"
   ]
  },
  {
   "cell_type": "code",
   "execution_count": null,
   "metadata": {
    "dotnet_interactive": {
     "language": "csharp"
    }
   },
   "outputs": [
    {
     "name": "stdout",
     "output_type": "stream",
     "text": [
      "  #\r\n",
      " ###\r\n",
      "#####\r\n"
     ]
    }
   ],
   "source": [
    "// This is rubs - it's contaminated the logic with the output\n",
    "void towerZ(int n) {\n",
    "    for (int i=0 ; i < n ; i++) {\n",
    "        for (int j=0 ; j<(n-1-i) ; j++) {Console.Write(\" \");}\n",
    "        for (int k=0 ; k<(i*2+1) ; k++) {Console.Write(\"#\");}\n",
    "        Console.WriteLine();\n",
    "    }\n",
    "}\n",
    "\n",
    "towerZ(3);"
   ]
  },
  {
   "cell_type": "code",
   "execution_count": null,
   "metadata": {
    "dotnet_interactive": {
     "language": "csharp"
    }
   },
   "outputs": [
    {
     "name": "stdout",
     "output_type": "stream",
     "text": [
      "  #\n",
      " ###\n",
      "#####\n",
      "\r\n"
     ]
    }
   ],
   "source": [
    "String towerY(int n) {\n",
    "    String o = \"\";\n",
    "    for (int i=0 ; i < n ; i++) {\n",
    "        for (int j=0 ; j<(n-1-i) ; j++) {o = o + \" \";}\n",
    "        for (int k=0 ; k<(i*2+1) ; k++) {o = o + \"#\";}\n",
    "        o = o + \"\\n\";\n",
    "    }\n",
    "    return o;\n",
    "}\n",
    "\n",
    "Console.WriteLine(towerY(3));"
   ]
  },
  {
   "cell_type": "code",
   "execution_count": null,
   "metadata": {
    "dotnet_interactive": {
     "language": "csharp"
    }
   },
   "outputs": [
    {
     "name": "stdout",
     "output_type": "stream",
     "text": [
      "  #\n",
      " ###\n",
      "#####\n",
      "\r\n"
     ]
    }
   ],
   "source": [
    "\n",
    "// Alternate solution with various degrees of niceness\n",
    "String towerX(int n) {\n",
    "    String o = \"\";\n",
    "    for (int i=0 ; i < n ; i++) {\n",
    "        o += repeat(\" \", n-1-i) + repeat(\"#\", i*2+1) + \"\\n\";\n",
    "    }\n",
    "    return o;\n",
    "}\n",
    "\n",
    "Console.WriteLine(towerX(3));"
   ]
  },
  {
   "cell_type": "code",
   "execution_count": null,
   "metadata": {
    "dotnet_interactive": {
     "language": "csharp"
    }
   },
   "outputs": [
    {
     "name": "stdout",
     "output_type": "stream",
     "text": [
      "  #\n",
      " ###\n",
      "#####\r\n"
     ]
    }
   ],
   "source": [
    "// My prefered solution using enumerables\n",
    "String tower(int n) {\n",
    "    return String.Join(\"\\n\", Enumerable.Range(0, n).Select(\n",
    "        (i) => repeat(\" \", n-1-i) + repeat(\"#\", i*2+1)\n",
    "    ));\n",
    "}\n",
    "\n",
    "Console.WriteLine(tower(3));"
   ]
  },
  {
   "cell_type": "code",
   "execution_count": null,
   "metadata": {
    "dotnet_interactive": {
     "language": "csharp"
    }
   },
   "outputs": [
    {
     "name": "stdout",
     "output_type": "stream",
     "text": [
      "it works\r\n"
     ]
    }
   ],
   "source": [
    "if (tower(4) != \"   #\\n  ###\\n #####\\n#######\") {\n",
    "    Console.WriteLine($\"It's broken - I got:\\n{tower(4)}\");\n",
    "}\n",
    "\n",
    "if (\n",
    "    tower(1) == \"#\" &&\n",
    "    tower(2) == \" #\\n###\" &&\n",
    "    tower(3) == \"  #\\n ###\\n#####\" &&\n",
    "    tower(4) == \"   #\\n  ###\\n #####\\n#######\" &&\n",
    "    true\n",
    ") {\n",
    "    Console.WriteLine(\"it works\");\n",
    "} else {\n",
    "    Console.WriteLine(\"it's broken\");\n",
    "}\n"
   ]
  },
  {
   "cell_type": "code",
   "execution_count": null,
   "metadata": {
    "dotnet_interactive": {
     "language": "csharp"
    }
   },
   "outputs": [],
   "source": [
    "/*\n",
    "I want to use `.Assert` in notebooks ... It just crashed the cell - need more\n",
    "\n",
    "// Experiment with flags - with these on Debug.Assert crashs's the running - I want to know how to get output from assertions\n",
    "#define TRACE\n",
    "//#define DEBUG\n",
    "\n",
    "using System;\n",
    "using System.Diagnostics;\n",
    "\n",
    "Trace.Listeners.Add(new ConsoleTraceListener());\n",
    "Trace.WriteLine(\"Howdy\");\n",
    "\n",
    "//Debug.WriteLine(tower(1) == \"#\", \"yeee it's fooked\");\n",
    "Trace.Assert(0 == 0, \"broken1\");\n",
    "Trace.Assert(0 == 1, \"broken2\");\n",
    "*/\n"
   ]
  }
 ],
 "metadata": {
  "kernelspec": {
   "display_name": ".NET (C#)",
   "language": "C#",
   "name": ".net-csharp"
  },
  "language_info": {
   "file_extension": ".cs",
   "mimetype": "text/x-csharp",
   "name": "C#",
   "pygments_lexer": "csharp",
   "version": "9.0"
  },
  "orig_nbformat": 4
 },
 "nbformat": 4,
 "nbformat_minor": 2
}
