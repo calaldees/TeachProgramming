{
 "cells": [
  {
   "cell_type": "markdown",
   "metadata": {},
   "source": [
    "# Max Profit\n",
    "\n",
    "From: https://leetcode.com/problems/best-time-to-buy-and-sell-stock/\n",
    "\n",
    "You are given an array prices where prices[i] is the price of a given stock on the ith day.\n",
    "\n",
    "You want to maximize your profit by choosing a single day to buy one stock and choosing a different day in the future to sell that stock.\n",
    "\n",
    "Return the maximum profit you can achieve from this transaction. If you cannot achieve any profit, return 0.\n",
    "\n",
    "Example 1:\n",
    "\n",
    "    >>> maxProfit([7,1,5,3,6,4])\n",
    "    5\n",
    "\n",
    "Explanation: Buy on day 2 (price = 1) and sell on day 5 (price = 6), profit = 6-1 = 5.\n",
    "Note that buying on day 2 and selling on day 1 is not allowed because you must buy before you sell.\n",
    "\n",
    "Example 2:\n",
    "\n",
    "    >>> maxProfit([7,6,4,3,1])\n",
    "    0\n",
    "\n",
    "Explanation: In this case, no transactions are done and the max profit = 0.\n"
   ]
  },
  {
   "cell_type": "code",
   "execution_count": null,
   "metadata": {
    "dotnet_interactive": {
     "language": "csharp"
    }
   },
   "outputs": [],
   "source": [
    "void AssertIsEqual<A> (A a, A b) {AssertIsEqual(a,b,\"\");}\n",
    "void AssertIsEqual<A> (A a, A b, string message) {\n",
    "    if (!a.Equals(b)) {\n",
    "        throw new Exception($\"Failed AssertIsEqual({a} == {b}): {message}\");\n",
    "    }\n",
    "}"
   ]
  },
  {
   "cell_type": "code",
   "execution_count": null,
   "metadata": {
    "dotnet_interactive": {
     "language": "csharp"
    }
   },
   "outputs": [],
   "source": [
    "int maxProfit1(int[] prices) {\n",
    "    return prices.Select((price, i)=>{\n",
    "        return prices[i..].Max() - price;\n",
    "    }).Max();\n",
    "}\n",
    "\n",
    "AssertIsEqual(maxProfit1(new int[]{7,1,5,3,6,4}), 5);\n",
    "AssertIsEqual(maxProfit1(new int[]{7,6,4,3,1}), 0);\n",
    "AssertIsEqual(maxProfit1(new int[]{6,5,10,1,2,3,4}), 5);"
   ]
  },
  {
   "cell_type": "code",
   "execution_count": null,
   "metadata": {
    "dotnet_interactive": {
     "language": "csharp"
    }
   },
   "outputs": [],
   "source": [
    "int maxProfit3(int[] prices) {\n",
    "    int max_profit = 0;\n",
    "    for (var i=0 ; i<prices.Length ; i++) {\n",
    "        for (int j=i ; j<prices.Length ; j++) {\n",
    "            int profit = prices[j] - prices[i];\n",
    "            //Console.WriteLine($\"i={i} prices[i]={prices[i]} - j={j} prices[j]={prices[j]} - profit={profit}\");\n",
    "            if (profit > max_profit) {\n",
    "                max_profit = profit;\n",
    "            }\n",
    "        }\n",
    "    }\n",
    "    return max_profit;\n",
    "}\n",
    "AssertIsEqual(maxProfit3(new int[]{7,1,5,3,6,4}), 5);\n",
    "AssertIsEqual(maxProfit3(new int[]{7,6,4,3,1}), 0);\n",
    "AssertIsEqual(maxProfit3(new int[]{6,5,10,1,2,3,4}), 5);"
   ]
  },
  {
   "cell_type": "code",
   "execution_count": null,
   "metadata": {
    "dotnet_interactive": {
     "language": "csharp"
    }
   },
   "outputs": [],
   "source": [
    "int max(int[] data) {\n",
    "    int max = 0;\n",
    "    foreach (var i in data) {\n",
    "        if (i>max) {max = i;}\n",
    "    }\n",
    "    return max;\n",
    "}\n",
    "int maxProfit4(int[] prices) {\n",
    "    int max_profit = 0;\n",
    "    for (var i=0 ; i<prices.Length ; i++) {\n",
    "        int _max = max(new ArraySegment<int>(prices, i, prices.Length-i).ToArray());\n",
    "        int profit = _max - prices[i];\n",
    "        //Console.WriteLine($\"i={i} prices[i]={prices[i]} - _max={_max} - profit={profit}\");\n",
    "        max_profit = Math.Max(profit, max_profit);\n",
    "    }\n",
    "    return max_profit;\n",
    "}\n",
    "AssertIsEqual(maxProfit4(new int[]{7,1,5,3,6,4}), 5);\n",
    "AssertIsEqual(maxProfit4(new int[]{7,6,4,3,1}), 0);\n",
    "AssertIsEqual(maxProfit4(new int[]{6,5,10,1,2,3,4}), 5);"
   ]
  },
  {
   "cell_type": "code",
   "execution_count": null,
   "metadata": {
    "dotnet_interactive": {
     "language": "csharp"
    }
   },
   "outputs": [
    {
     "ename": "Error",
     "evalue": "System.Exception: Failed AssertIsEqual(3 == 5): \r\n   at Submission#3.AssertIsEqual[A](A a, A b, String message)\r\n   at Submission#3.AssertIsEqual[A](A a, A b)\r\n   at Submission#5.<<Initialize>>d__0.MoveNext()\r\n--- End of stack trace from previous location ---\r\n   at Microsoft.CodeAnalysis.Scripting.ScriptExecutionState.RunSubmissionsAsync[TResult](ImmutableArray`1 precedingExecutors, Func`2 currentExecutor, StrongBox`1 exceptionHolderOpt, Func`2 catchExceptionOpt, CancellationToken cancellationToken)",
     "output_type": "error",
     "traceback": [
      "System.Exception: Failed AssertIsEqual(3 == 5): \r\n",
      "   at Submission#3.AssertIsEqual[A](A a, A b, String message)\r\n",
      "   at Submission#3.AssertIsEqual[A](A a, A b)\r\n",
      "   at Submission#5.<<Initialize>>d__0.MoveNext()\r\n",
      "--- End of stack trace from previous location ---\r\n",
      "   at Microsoft.CodeAnalysis.Scripting.ScriptExecutionState.RunSubmissionsAsync[TResult](ImmutableArray`1 precedingExecutors, Func`2 currentExecutor, StrongBox`1 exceptionHolderOpt, Func`2 catchExceptionOpt, CancellationToken cancellationToken)"
     ]
    }
   ],
   "source": [
    "// order of magnitude faster than maxProfit1 - but not correct - a faster heuistic\n",
    "int maxProfit2(int[] prices) {\n",
    "    int min_index = Array.IndexOf(prices, prices.Min());\n",
    "    int max_index = Array.IndexOf(prices, prices[min_index..].Max());\n",
    "    return prices[max_index] - prices[min_index];\n",
    "}\n",
    "AssertIsEqual(maxProfit2(new int[]{7,1,5,3,6,4}), 5);\n",
    "AssertIsEqual(maxProfit2(new int[]{7,6,4,3,1}), 0);\n",
    "AssertIsEqual(maxProfit2(new int[]{6,5,10,1,2,3,4}), 5);"
   ]
  }
 ],
 "metadata": {
  "kernelspec": {
   "display_name": ".NET (C#)",
   "language": "C#",
   "name": ".net-csharp"
  },
  "language_info": {
   "file_extension": ".cs",
   "mimetype": "text/x-csharp",
   "name": "C#",
   "pygments_lexer": "csharp",
   "version": "9.0"
  },
  "orig_nbformat": 4
 },
 "nbformat": 4,
 "nbformat_minor": 2
}
