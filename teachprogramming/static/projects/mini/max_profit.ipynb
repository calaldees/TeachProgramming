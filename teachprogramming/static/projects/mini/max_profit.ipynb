{
 "cells": [
  {
   "cell_type": "markdown",
   "metadata": {},
   "source": [
    "# Max Profit\n",
    "\n",
    "https://leetcode.com/problems/best-time-to-buy-and-sell-stock/\n",
    "\n",
    "You are given an array prices where prices[i] is the price of a given stock on the ith day.\n",
    "\n",
    "You want to maximize your profit by choosing a single day to buy one stock and choosing a different day in the future to sell that stock.\n",
    "\n",
    "Return the maximum profit you can achieve from this transaction. If you cannot achieve any profit, return 0.\n",
    "\n",
    "Example 1:\n",
    "\n",
    "    >>> maxProfit([7,1,5,3,6,4])\n",
    "    5\n",
    "\n",
    "Explanation: Buy on day 2 (price = 1) and sell on day 5 (price = 6), profit = 6-1 = 5.\n",
    "Note that buying on day 2 and selling on day 1 is not allowed because you must buy before you sell.\n",
    "\n",
    "Example 2:\n",
    "\n",
    "    >>> maxProfit([7,6,4,3,1])\n",
    "    0\n",
    "\n",
    "Explanation: In this case, no transactions are done and the max profit = 0.\n"
   ]
  },
  {
   "cell_type": "code",
   "execution_count": null,
   "metadata": {
    "dotnet_interactive": {
     "language": "csharp"
    }
   },
   "outputs": [],
   "source": [
    "void AssertIsEqual<A> (A a, A b) {AssertIsEqual(a,b,\"\");}\n",
    "void AssertIsEqual<A> (A a, A b, string message) {\n",
    "    if (!a.Equals(b)) {\n",
    "        throw new Exception($\"Failed AssertIsEqual({a} == {b}): {message}\");\n",
    "    }\n",
    "}"
   ]
  },
  {
   "cell_type": "code",
   "execution_count": null,
   "metadata": {
    "dotnet_interactive": {
     "language": "csharp"
    }
   },
   "outputs": [],
   "source": [
    "int maxProfit1(int[] prices) {\n",
    "    return prices.Select((price, i)=>{\n",
    "        return prices[i..].Max() - price;\n",
    "    }).Max();\n",
    "}\n",
    "\n",
    "AssertIsEqual(maxProfit1(new int[]{7,1,5,3,6,4}), 5);\n",
    "AssertIsEqual(maxProfit1(new int[]{7,6,4,3,1}), 0);"
   ]
  },
  {
   "cell_type": "code",
   "execution_count": null,
   "metadata": {
    "dotnet_interactive": {
     "language": "csharp"
    }
   },
   "outputs": [],
   "source": [
    "// order of magnitude faster than maxProfit1\n",
    "int maxProfit2(int[] prices) {\n",
    "    int min_index = Array.IndexOf(prices, prices.Min());\n",
    "    int max_index = Array.IndexOf(prices, prices[min_index..].Max());\n",
    "    return prices[max_index] - prices[min_index];\n",
    "}\n",
    "AssertIsEqual(maxProfit2(new int[]{7,1,5,3,6,4}), 5);\n",
    "AssertIsEqual(maxProfit2(new int[]{7,6,4,3,1}), 0);"
   ]
  }
 ],
 "metadata": {
  "kernelspec": {
   "display_name": ".NET (C#)",
   "language": "C#",
   "name": ".net-csharp"
  },
  "language_info": {
   "file_extension": ".cs",
   "mimetype": "text/x-csharp",
   "name": "C#",
   "pygments_lexer": "csharp",
   "version": "9.0"
  },
  "orig_nbformat": 4
 },
 "nbformat": 4,
 "nbformat_minor": 2
}
