{
 "cells": [
  {
   "cell_type": "code",
   "execution_count": null,
   "metadata": {
    "dotnet_interactive": {
     "language": "csharp"
    }
   },
   "outputs": [],
   "source": [
    "void AssertIsEqual<A> (A a, A b, string message) {\n",
    "    if (!a.Equals(b)) {\n",
    "        throw new Exception($\"Failed AssertIsEqual({a} == {b}): {message}\");\n",
    "    }\n",
    "}\n",
    "\n",
    "\n",
    "\n",
    "\n",
    "var DIGIT_WORDS = new Dictionary<string, string>(){\n",
    "    {\"1\", \"ONE\"},\n",
    "    {\"2\", \"TWO\"},\n",
    "    {\"3\", \"THREE\"},\n",
    "    {\"4\", \"FOUR\"},\n",
    "    {\"5\", \"FIVE\"},\n",
    "    {\"6\", \"SIX\"},\n",
    "    {\"7\", \"SEVEN\"},\n",
    "    {\"8\", \"EIGHT\"},\n",
    "    {\"9\", \"NINE\"},\n",
    "};\n",
    "String digit_word(String s) {\n",
    "    foreach (var kv in DIGIT_WORDS) {\n",
    "        String digit_int = kv.Key;\n",
    "        char[] digit_str = kv.Value.ToCharArray();\n",
    "        int digit_str_index = 0;\n",
    "        foreach (var letter in s) {\n",
    "            if (letter == digit_str[digit_str_index]) {\n",
    "                digit_str_index++;\n",
    "            }\n",
    "            if (digit_str_index >= digit_str.Length) {\n",
    "                return digit_int;\n",
    "            }\n",
    "        }\n",
    "    }\n",
    "    return \"NO\";\n",
    "}\n",
    "\n",
    "AssertIsEqual(digit_word(\"BOUNCE\"), \"1\", \"ONE is in BOUNCE\");\n",
    "AssertIsEqual(digit_word(\"ENCODE\"), \"NO\", \"No digit words in encode\");"
   ]
  }
 ],
 "metadata": {
  "kernelspec": {
   "display_name": ".NET (C#)",
   "language": "C#",
   "name": ".net-csharp"
  },
  "language_info": {
   "file_extension": ".cs",
   "mimetype": "text/x-csharp",
   "name": "C#",
   "pygments_lexer": "csharp",
   "version": "9.0"
  },
  "orig_nbformat": 4
 },
 "nbformat": 4,
 "nbformat_minor": 2
}
