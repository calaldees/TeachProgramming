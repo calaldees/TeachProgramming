{
 "cells": [
  {
   "cell_type": "markdown",
   "metadata": {},
   "source": [
    "Digit Word\n",
    "----------\n",
    "\n",
    "From: [2009 British Informatics Olympiad Round One exam](https://www.olympiad.org.uk/papers/2009/bio/round_one.html) (an under 18's coding competition)\n",
    "\n",
    "A digit word is a word where, after possibly removing some letters, you are left with one of the single digits: \n",
    "ONE, TWO, THREE, FOUR, FIVE, SIX, SEVEN, EIGHT or NINE.\n",
    "For example:\n",
    "• BOUNCE and ANNOUNCE are digit words, since they contain the digit ONE.\n",
    "• ENCODE is not a digit word, even though it contains an O, N and E, since they are not in order\n",
    "\n",
    "Write a program which reads in a single upper-case word (with at most fifteen letters) \n",
    "and determines if it is a digit word. \n",
    "If the word is not a digit word you should output the word NO. If the word is a digit \n",
    "\n",
    "word you should output the digit it contains, as a number.\n",
    "You will not be given any words which contain more than one digit\n",
    "\n",
    "```\n",
    "Sample run 1\n",
    "BOUNCE\n",
    "1\n",
    "```\n",
    "```\n",
    "Sample run 2\n",
    "ENCODE\n",
    "NO\n",
    "```\n"
   ]
  },
  {
   "cell_type": "code",
   "execution_count": null,
   "metadata": {
    "dotnet_interactive": {
     "language": "csharp"
    }
   },
   "outputs": [],
   "source": [
    "void AssertIsEqual<A> (A a, A b) {AssertIsEqual(a,b,\"\");}\n",
    "void AssertIsEqual<A> (A a, A b, string message) {\n",
    "    if (!a.Equals(b)) {\n",
    "        throw new Exception($\"Failed AssertIsEqual({a} == {b}): {message}\");\n",
    "    }\n",
    "}"
   ]
  },
  {
   "cell_type": "code",
   "execution_count": null,
   "metadata": {
    "dotnet_interactive": {
     "language": "csharp"
    }
   },
   "outputs": [],
   "source": [
    "var DIGIT_WORDS = new Dictionary<string, string>(){\n",
    "    {\"1\", \"ONE\"},\n",
    "    {\"2\", \"TWO\"},\n",
    "    {\"3\", \"THREE\"},\n",
    "    {\"4\", \"FOUR\"},\n",
    "    {\"5\", \"FIVE\"},\n",
    "    {\"6\", \"SIX\"},\n",
    "    {\"7\", \"SEVEN\"},\n",
    "    {\"8\", \"EIGHT\"},\n",
    "    {\"9\", \"NINE\"},\n",
    "};\n",
    "String digit_word(String s) {\n",
    "    foreach (var kv in DIGIT_WORDS) {\n",
    "        String digit_int = kv.Key;\n",
    "        String digit_str = kv.Value;\n",
    "        int digit_str_index = 0;\n",
    "        foreach (var letter in s) {\n",
    "            if (letter == digit_str[digit_str_index]) {\n",
    "                digit_str_index++;\n",
    "            }\n",
    "            if (digit_str_index >= digit_str.Length) {\n",
    "                return digit_int;\n",
    "            }\n",
    "        }\n",
    "    }\n",
    "    return \"NO\";\n",
    "}\n",
    "\n",
    "AssertIsEqual(digit_word(\"BOUNCE\"), \"1\", \"ONE is in BOUNCE\");\n",
    "AssertIsEqual(digit_word(\"ENCODE\"), \"NO\", \"No digit words in encode\");"
   ]
  },
  {
   "cell_type": "code",
   "execution_count": null,
   "metadata": {
    "dotnet_interactive": {
     "language": "csharp"
    }
   },
   "outputs": [],
   "source": [
    "// Just using plain arrays\n",
    "var DIGIT_WORDS = new String[]{\"ONE\",\"TWO\",\"THREE\",\"FOUR\",\"FIVE\",\"SIX\",\"SEVEN\",\"EIGHT\",\"NINE\"};\n",
    "String digit_word2(String s) {\n",
    "    for (int i=0 ; i<DIGIT_WORDS.Length ; i++) {\n",
    "        String digit_int = $\"{i+1}\";\n",
    "        String digit_str = DIGIT_WORDS[i]\n",
    "        int digit_str_index = 0;\n",
    "        foreach (var letter in s) {\n",
    "            if (letter == digit_str[digit_str_index]) {\n",
    "                digit_str_index++;\n",
    "            }\n",
    "            if (digit_str_index >= digit_str.Length) {\n",
    "                return digit_int;\n",
    "            }\n",
    "        }\n",
    "    }\n",
    "    return \"NO\";\n",
    "}\n",
    "\n",
    "AssertIsEqual(digit_word2(\"BOUNCE\"), \"1\", \"ONE is in BOUNCE\");\n",
    "AssertIsEqual(digit_word2(\"ENCODE\"), \"NO\", \"No digit words in encode\");"
   ]
  },
  {
   "cell_type": "code",
   "execution_count": null,
   "metadata": {
    "dotnet_interactive": {
     "language": "csharp"
    }
   },
   "outputs": [],
   "source": [
    "AssertIsEqual(digit_word(\"EIGHT\"), \"8\");\n",
    "AssertIsEqual(digit_word(\"BLACKJACK\"), \"NO\");\n",
    "AssertIsEqual(digit_word(\"FABULOUS\"), \"NO\");\n",
    "AssertIsEqual(digit_word(\"EXERCISE\"), \"NO\");\n",
    "AssertIsEqual(digit_word(\"DRIFTWOOD\"), \"2\");\n",
    "AssertIsEqual(digit_word(\"SERVICEMAN\"), \"7\");\n",
    "AssertIsEqual(digit_word(\"INSIGNIFICANCE\"), \"9\");\n",
    "AssertIsEqual(digit_word(\"THROWDOWN\"), \"2\");"
   ]
  }
 ],
 "metadata": {
  "kernelspec": {
   "display_name": ".NET (C#)",
   "language": "C#",
   "name": ".net-csharp"
  },
  "language_info": {
   "file_extension": ".cs",
   "mimetype": "text/x-csharp",
   "name": "C#",
   "pygments_lexer": "csharp",
   "version": "9.0"
  },
  "orig_nbformat": 4
 },
 "nbformat": 4,
 "nbformat_minor": 2
}
