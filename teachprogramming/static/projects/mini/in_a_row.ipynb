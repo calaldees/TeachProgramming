{
 "cells": [
  {
   "cell_type": "code",
   "execution_count": null,
   "metadata": {
    "dotnet_interactive": {
     "language": "csharp"
    }
   },
   "outputs": [],
   "source": [
    "using System.Linq;\n",
    "\n",
    "void AssertIsEqual<A> (A a, A b, string message) {\n",
    "    if (!a.Equals(b)) {\n",
    "        throw new Exception($\"Failed AssertIsEqual({a} == {b}): {message}\");\n",
    "    }\n",
    "}\n",
    "\n",
    "\n",
    "\n",
    "int in_a_row(string data) {\n",
    "    int max_count = 0;\n",
    "    foreach (char i in data) {\n",
    "        int count = 0;\n",
    "        foreach (char j in data) {\n",
    "            if (i == j) {count += 1;}\n",
    "        }\n",
    "        if (count > max_count) {max_count = count;}\n",
    "    }\n",
    "    return max_count;\n",
    "}\n",
    "\n",
    "AssertIsEqual(in_a_row(\"aabbbcc\"), 3, \"should count 3 b's\");\n",
    "\n",
    "\n",
    "\n",
    "(int count, char i) in_a_row2(string data) {\n",
    "    int max_count = 0;\n",
    "    char max_i = ' ';\n",
    "    foreach (char i in data) {\n",
    "        int count = 0;\n",
    "        foreach (char j in data) {\n",
    "            if (i == j) {count += 1;}\n",
    "        }\n",
    "        if (count > max_count) {\n",
    "            max_count = count;\n",
    "            max_i = i;\n",
    "        }\n",
    "    }\n",
    "    return (max_count, max_i);\n",
    "}\n",
    "\n",
    "AssertIsEqual(in_a_row2(\"aabbbcc\"), (3, 'b'), \"should count 3 b's\");\n",
    "\n",
    "\n",
    "\n",
    "int in_a_row3(string data) {\n",
    "    return data.Distinct().Select(\n",
    "        (i) => data.Where(j => i==j).Count()\n",
    "    ).Max();\n",
    "}\n",
    "\n",
    "AssertIsEqual(in_a_row3(\"aabbbcc\"), 3, \"should count 3 b's\");\n",
    "\n",
    "\n",
    "\n",
    "(int count, char i) in_a_row4(string data) {\n",
    "    return data.Distinct().Select(\n",
    "        (i) => (data.Where(j => i==j).Count(), i)\n",
    "    ).Max();\n",
    "}\n",
    "\n",
    "AssertIsEqual(in_a_row4(\"aabbbcc\"), (3, 'b'), \"should count 3 b's\");\n"
   ]
  }
 ],
 "metadata": {
  "kernelspec": {
   "display_name": ".NET (C#)",
   "language": "C#",
   "name": ".net-csharp"
  },
  "language_info": {
   "file_extension": ".cs",
   "mimetype": "text/x-csharp",
   "name": "C#",
   "pygments_lexer": "csharp",
   "version": "9.0"
  },
  "orig_nbformat": 4
 },
 "nbformat": 4,
 "nbformat_minor": 2
}
