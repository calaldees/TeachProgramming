{
 "cells": [
  {
   "cell_type": "markdown",
   "metadata": {},
   "source": [
    "FNV-1 hash\n",
    "----------\n",
    "https://en.wikipedia.org/wiki/Fowler%E2%80%93Noll%E2%80%93Vo_hash_function\n",
    "```\n",
    "uint64 FNV_offset_basis = 14695981039346656037 \n",
    "uint64 FNV_prime = 1099511628211 \n",
    "\n",
    "algorithm fnv-1 is\n",
    "    hash := FNV_offset_basis\n",
    "\n",
    "    for each byte_of_data to be hashed do\n",
    "        hash := hash * FNV_prime\n",
    "        hash := hash XOR byte_of_data\n",
    "\n",
    "    return hash \n",
    "```\n"
   ]
  },
  {
   "cell_type": "code",
   "execution_count": null,
   "metadata": {
    "dotnet_interactive": {
     "language": "csharp"
    }
   },
   "outputs": [],
   "source": [
    "void AssertIsEqual<A> (A a, A b) {AssertIsEqual(a,b,\"\");}\n",
    "void AssertIsEqual<A> (A a, A b, string message) {\n",
    "    if (!a.Equals(b)) {\n",
    "        throw new Exception($\"Failed AssertIsEqual({a} == {b}): {message}\");\n",
    "    }\n",
    "}"
   ]
  },
  {
   "cell_type": "code",
   "execution_count": null,
   "metadata": {
    "dotnet_interactive": {
     "language": "csharp"
    }
   },
   "outputs": [],
   "source": [
    "const ulong FNV_offset_basis = 14695981039346656037ul;\n",
    "const ulong FNV_prime = 1099511628211ul;\n",
    "\n",
    "ulong fnv1(IEnumerable<Byte> data) {\n",
    "    ulong hash = FNV_offset_basis;\n",
    "    foreach(Byte b in data) {\n",
    "        unchecked {hash *= FNV_prime;} // ulong.MaxValue? wrap around?\n",
    "        hash ^= b;\n",
    "    }\n",
    "    return hash;\n",
    "}\n",
    "\n",
    "AssertIsEqual(fnv1(new byte[]{}), 14695981039346656037ul);\n",
    "AssertIsEqual(fnv1(new byte[]{0}), 12638153115695167455ul);\n",
    "AssertIsEqual(fnv1(Encoding.UTF8.GetBytes(\"abc\")), 15626587013303479755ul);"
   ]
  }
 ],
 "metadata": {
  "kernelspec": {
   "display_name": ".NET (C#)",
   "language": "C#",
   "name": ".net-csharp"
  },
  "language_info": {
   "file_extension": ".cs",
   "mimetype": "text/x-csharp",
   "name": "C#",
   "pygments_lexer": "csharp",
   "version": "9.0"
  },
  "orig_nbformat": 4
 },
 "nbformat": 4,
 "nbformat_minor": 2
}
